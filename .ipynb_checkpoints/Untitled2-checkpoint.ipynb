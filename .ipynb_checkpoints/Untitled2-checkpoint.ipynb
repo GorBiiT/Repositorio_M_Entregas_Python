{
 "cells": [
  {
   "cell_type": "markdown",
   "id": "3f932003",
   "metadata": {},
   "source": [
    "# EXERCÍCIO 5.1"
   ]
  },
  {
   "cell_type": "code",
   "execution_count": null,
   "id": "2aa55832",
   "metadata": {},
   "outputs": [],
   "source": [
    "#10+20X30 EXPERSSÃO 1"
   ]
  },
  {
   "cell_type": "code",
   "execution_count": 2,
   "id": "0092e8a1",
   "metadata": {},
   "outputs": [],
   "source": [
    "a = 10 # VALOR DE A"
   ]
  },
  {
   "cell_type": "code",
   "execution_count": 3,
   "id": "83f694ed",
   "metadata": {},
   "outputs": [],
   "source": [
    "b = 20 # VALOR DE B"
   ]
  },
  {
   "cell_type": "code",
   "execution_count": 4,
   "id": "e0d354e2",
   "metadata": {},
   "outputs": [],
   "source": [
    "c =30 # VALOR DE C"
   ]
  },
  {
   "cell_type": "code",
   "execution_count": 7,
   "id": "9fe60d07",
   "metadata": {},
   "outputs": [
    {
     "name": "stdout",
     "output_type": "stream",
     "text": [
      "RESULTADO: 610\n"
     ]
    }
   ],
   "source": [
    "print (\"RESULTADO:\", a+b*c)"
   ]
  },
  {
   "cell_type": "code",
   "execution_count": 8,
   "id": "bc8456d6",
   "metadata": {},
   "outputs": [],
   "source": [
    "# 4^2/30 EXPRESSÃO 2"
   ]
  },
  {
   "cell_type": "code",
   "execution_count": 32,
   "id": "fe9c9ceb",
   "metadata": {},
   "outputs": [],
   "source": [
    "A = 4 # VALOR DE A"
   ]
  },
  {
   "cell_type": "code",
   "execution_count": 33,
   "id": "171eb2ff",
   "metadata": {},
   "outputs": [],
   "source": [
    "B = 30 # VALOR DE B"
   ]
  },
  {
   "cell_type": "code",
   "execution_count": 35,
   "id": "5a8cf893",
   "metadata": {
    "scrolled": true
   },
   "outputs": [],
   "source": [
    "C = 4 # VALOR DE C"
   ]
  },
  {
   "cell_type": "code",
   "execution_count": 51,
   "id": "4fb2081a",
   "metadata": {},
   "outputs": [
    {
     "name": "stdout",
     "output_type": "stream",
     "text": [
      "RESULTADO:  30.0\n"
     ]
    }
   ],
   "source": [
    "print (\"RESULTADO: \", A*B/C)"
   ]
  },
  {
   "cell_type": "code",
   "execution_count": 38,
   "id": "f49253cc",
   "metadata": {},
   "outputs": [],
   "source": [
    "# (94+2) X 6 -1 EXPRESSÃO 3 "
   ]
  },
  {
   "cell_type": "code",
   "execution_count": 42,
   "id": "2375fc2e",
   "metadata": {},
   "outputs": [
    {
     "name": "stdout",
     "output_type": "stream",
     "text": [
      "RESULTADO :  575\n"
     ]
    }
   ],
   "source": [
    "print (\"RESULTADO : \", (94+2) * 6 -1)"
   ]
  },
  {
   "cell_type": "code",
   "execution_count": 44,
   "id": "6759faaf",
   "metadata": {},
   "outputs": [],
   "source": [
    "# ((10+8)*(10-4)) -1 # EXPRESSÃO 4 "
   ]
  },
  {
   "cell_type": "code",
   "execution_count": 47,
   "id": "28c292dc",
   "metadata": {},
   "outputs": [
    {
     "name": "stdout",
     "output_type": "stream",
     "text": [
      "RESULTADO:  108\n"
     ]
    }
   ],
   "source": [
    "print (\"RESULTADO: \", ((10+8)*(10-4)))"
   ]
  },
  {
   "cell_type": "code",
   "execution_count": 49,
   "id": "740df29b",
   "metadata": {},
   "outputs": [
    {
     "name": "stdout",
     "output_type": "stream",
     "text": [
      "RESULTADO:  2980947985820.5586\n"
     ]
    }
   ],
   "source": [
    "print(\"RESULTADO: \",((1500+(100-9/10))*9)**3)"
   ]
  }
 ],
 "metadata": {
  "kernelspec": {
   "display_name": "Python 3 (ipykernel)",
   "language": "python",
   "name": "python3"
  },
  "language_info": {
   "codemirror_mode": {
    "name": "ipython",
    "version": 3
   },
   "file_extension": ".py",
   "mimetype": "text/x-python",
   "name": "python",
   "nbconvert_exporter": "python",
   "pygments_lexer": "ipython3",
   "version": "3.9.7"
  }
 },
 "nbformat": 4,
 "nbformat_minor": 5
}
