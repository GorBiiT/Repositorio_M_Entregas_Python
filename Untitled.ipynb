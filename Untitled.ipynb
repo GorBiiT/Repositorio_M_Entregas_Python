{
 "cells": [
  {
   "cell_type": "markdown",
   "id": "68ea8ee6",
   "metadata": {},
   "source": [
    "# MEU PRIMEIRO CÓDIGO ABERTO"
   ]
  },
  {
   "cell_type": "code",
   "execution_count": 5,
   "id": "c39c7ce9",
   "metadata": {},
   "outputs": [
    {
     "name": "stdout",
     "output_type": "stream",
     "text": [
      " OLÁ ESTUDANTES DE PYTHON DO CETAM\n"
     ]
    }
   ],
   "source": [
    "print(\" OLÁ ESTUDANTES DE PYTHON DO CETAM\" )"
   ]
  },
  {
   "cell_type": "code",
   "execution_count": 6,
   "id": "1ea2b9f1",
   "metadata": {},
   "outputs": [
    {
     "data": {
      "text/plain": [
       "6"
      ]
     },
     "execution_count": 6,
     "metadata": {},
     "output_type": "execute_result"
    }
   ],
   "source": [
    "2+4\n"
   ]
  },
  {
   "cell_type": "code",
   "execution_count": 8,
   "id": "262ba462",
   "metadata": {},
   "outputs": [
    {
     "name": "stdout",
     "output_type": "stream",
     "text": [
      "OLÁ MUNDO!\n"
     ]
    }
   ],
   "source": [
    "print(\"OLÁ MUNDO!\")"
   ]
  },
  {
   "cell_type": "code",
   "execution_count": 9,
   "id": "6dc9d274",
   "metadata": {},
   "outputs": [
    {
     "name": "stdout",
     "output_type": "stream",
     "text": [
      "2\n"
     ]
    }
   ],
   "source": [
    "print(2)"
   ]
  },
  {
   "cell_type": "code",
   "execution_count": 22,
   "id": "39afc3fa",
   "metadata": {},
   "outputs": [
    {
     "name": "stdout",
     "output_type": "stream",
     "text": [
      "OLÁ MUNDO 2!\n"
     ]
    }
   ],
   "source": [
    "print(\"OLÁ MUNDO 2!\")"
   ]
  },
  {
   "cell_type": "markdown",
   "id": "e6224fdc",
   "metadata": {},
   "source": [
    "# ERRO COMUM"
   ]
  },
  {
   "cell_type": "code",
   "execution_count": 23,
   "id": "227971a7",
   "metadata": {},
   "outputs": [
    {
     "ename": "SyntaxError",
     "evalue": "invalid syntax (Temp/ipykernel_6728/1281745989.py, line 1)",
     "output_type": "error",
     "traceback": [
      "\u001b[1;36m  File \u001b[1;32m\"C:\\Users\\aluno05\\AppData\\Local\\Temp/ipykernel_6728/1281745989.py\"\u001b[1;36m, line \u001b[1;32m1\u001b[0m\n\u001b[1;33m    print(OLÁ MUNDO!)\u001b[0m\n\u001b[1;37m              ^\u001b[0m\n\u001b[1;31mSyntaxError\u001b[0m\u001b[1;31m:\u001b[0m invalid syntax\n"
     ]
    }
   ],
   "source": [
    "print(OLÁ MUNDO!)"
   ]
  },
  {
   "cell_type": "markdown",
   "id": "69bfd269",
   "metadata": {},
   "source": [
    "# Operação em Python segue, a matemática"
   ]
  },
  {
   "cell_type": "code",
   "execution_count": 25,
   "id": "e0ddea5a",
   "metadata": {},
   "outputs": [
    {
     "name": "stdout",
     "output_type": "stream",
     "text": [
      "6\n"
     ]
    }
   ],
   "source": [
    "print (1+5)"
   ]
  },
  {
   "cell_type": "code",
   "execution_count": 26,
   "id": "9bd8e0e5",
   "metadata": {},
   "outputs": [
    {
     "name": "stdout",
     "output_type": "stream",
     "text": [
      "10\n"
     ]
    }
   ],
   "source": [
    "print(1+3*3)"
   ]
  },
  {
   "cell_type": "markdown",
   "id": "56ce0548",
   "metadata": {},
   "source": [
    "# Strings em Python"
   ]
  },
  {
   "cell_type": "code",
   "execution_count": 28,
   "id": "467a9cbc",
   "metadata": {},
   "outputs": [
    {
     "name": "stdout",
     "output_type": "stream",
     "text": [
      "EU ESTUDO LP NOP CETAM\n"
     ]
    }
   ],
   "source": [
    "print(\"EU ESTUDO LP NOP CETAM\")"
   ]
  },
  {
   "cell_type": "markdown",
   "id": "e335ce57",
   "metadata": {},
   "source": [
    "# Concatenar"
   ]
  },
  {
   "cell_type": "code",
   "execution_count": 36,
   "id": "c73af210",
   "metadata": {},
   "outputs": [
    {
     "name": "stdout",
     "output_type": "stream",
     "text": [
      "ESTOU ESTUDANDO Python\n"
     ]
    }
   ],
   "source": [
    "print('ESTOU ESTUDANDO' + ' Python')"
   ]
  },
  {
   "cell_type": "code",
   "execution_count": 37,
   "id": "1e1baef1",
   "metadata": {},
   "outputs": [
    {
     "name": "stdout",
     "output_type": "stream",
     "text": [
      "Eu estou \n"
     ]
    }
   ],
   "source": [
    "print(\"Eu estou \")"
   ]
  },
  {
   "cell_type": "code",
   "execution_count": 41,
   "id": "7f522b2c",
   "metadata": {},
   "outputs": [
    {
     "name": "stdout",
     "output_type": "stream",
     "text": [
      "False\n"
     ]
    }
   ],
   "source": [
    "print(\"Estou estudando\" in 'Python')"
   ]
  },
  {
   "cell_type": "code",
   "execution_count": 43,
   "id": "829cc605",
   "metadata": {},
   "outputs": [
    {
     "name": "stdout",
     "output_type": "stream",
     "text": [
      "True\n"
     ]
    }
   ],
   "source": [
    "print(\"Py\"in \"Python\")"
   ]
  },
  {
   "cell_type": "code",
   "execution_count": 46,
   "id": "6e4e7f14",
   "metadata": {},
   "outputs": [
    {
     "name": "stdout",
     "output_type": "stream",
     "text": [
      "9\n"
     ]
    }
   ],
   "source": [
    "print(8+1)"
   ]
  },
  {
   "cell_type": "code",
   "execution_count": 48,
   "id": "7357a929",
   "metadata": {},
   "outputs": [
    {
     "name": "stdout",
     "output_type": "stream",
     "text": [
      "True\n"
     ]
    }
   ],
   "source": [
    "print(\"Hiram\" in \"Hiram á professor Python\")"
   ]
  },
  {
   "cell_type": "markdown",
   "id": "dd4d14ef",
   "metadata": {},
   "source": [
    "# Reiniciando Kernel"
   ]
  },
  {
   "cell_type": "code",
   "execution_count": 51,
   "id": "a9e5f682",
   "metadata": {},
   "outputs": [],
   "source": [
    "print = \"texto\""
   ]
  },
  {
   "cell_type": "code",
   "execution_count": 58,
   "id": "7bc974d9",
   "metadata": {},
   "outputs": [
    {
     "ename": "TypeError",
     "evalue": "'str' object is not callable",
     "output_type": "error",
     "traceback": [
      "\u001b[1;31m---------------------------------------------------------------------------\u001b[0m",
      "\u001b[1;31mTypeError\u001b[0m                                 Traceback (most recent call last)",
      "\u001b[1;32m~\\AppData\\Local\\Temp/ipykernel_6728/2010843637.py\u001b[0m in \u001b[0;36m<module>\u001b[1;34m\u001b[0m\n\u001b[1;32m----> 1\u001b[1;33m \u001b[0mprint\u001b[0m  \u001b[1;33m(\u001b[0m\u001b[1;34m\"texto\"\u001b[0m\u001b[1;33m)\u001b[0m\u001b[1;33m\u001b[0m\u001b[1;33m\u001b[0m\u001b[0m\n\u001b[0m",
      "\u001b[1;31mTypeError\u001b[0m: 'str' object is not callable"
     ]
    }
   ],
   "source": [
    "print  (\"texto\")"
   ]
  },
  {
   "cell_type": "code",
   "execution_count": null,
   "id": "9af31b49",
   "metadata": {},
   "outputs": [],
   "source": []
  }
 ],
 "metadata": {
  "kernelspec": {
   "display_name": "Python 3 (ipykernel)",
   "language": "python",
   "name": "python3"
  },
  "language_info": {
   "codemirror_mode": {
    "name": "ipython",
    "version": 3
   },
   "file_extension": ".py",
   "mimetype": "text/x-python",
   "name": "python",
   "nbconvert_exporter": "python",
   "pygments_lexer": "ipython3",
   "version": "3.9.7"
  }
 },
 "nbformat": 4,
 "nbformat_minor": 5
}
