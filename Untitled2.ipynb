{
 "cells": [
  {
   "cell_type": "markdown",
   "id": "154a055b",
   "metadata": {},
   "source": [
    "# EXERCÍCIO 5.1"
   ]
  },
  {
   "cell_type": "code",
   "execution_count": null,
   "id": "c9daa74e",
   "metadata": {},
   "outputs": [],
   "source": [
    "#10+20X30 EXPERSSÃO 1"
   ]
  },
  {
   "cell_type": "code",
   "execution_count": 2,
   "id": "d9b20e21",
   "metadata": {},
   "outputs": [],
   "source": [
    "a = 10 # VALOR DE A"
   ]
  },
  {
   "cell_type": "code",
   "execution_count": 3,
   "id": "17d4ae6f",
   "metadata": {},
   "outputs": [],
   "source": [
    "b = 20 # VALOR DE B"
   ]
  },
  {
   "cell_type": "code",
   "execution_count": 4,
   "id": "9ef488be",
   "metadata": {},
   "outputs": [],
   "source": [
    "c =30 # VALOR DE C"
   ]
  },
  {
   "cell_type": "code",
   "execution_count": 7,
   "id": "2e13a250",
   "metadata": {},
   "outputs": [
    {
     "name": "stdout",
     "output_type": "stream",
     "text": [
      "RESULTADO: 610\n"
     ]
    }
   ],
   "source": [
    "print (\"RESULTADO:\", a+b*c)"
   ]
  },
  {
   "cell_type": "code",
   "execution_count": 8,
   "id": "e425bca3",
   "metadata": {},
   "outputs": [],
   "source": [
    "# 4^2/30 EXPRESSÃO 2"
   ]
  },
  {
   "cell_type": "code",
   "execution_count": 32,
   "id": "2d65a4dd",
   "metadata": {},
   "outputs": [],
   "source": [
    "A = 4 # VALOR DE A"
   ]
  },
  {
   "cell_type": "code",
   "execution_count": 33,
   "id": "92c82ca3",
   "metadata": {},
   "outputs": [],
   "source": [
    "B = 30 # VALOR DE B"
   ]
  },
  {
   "cell_type": "code",
   "execution_count": 35,
   "id": "b8e64e76",
   "metadata": {
    "scrolled": true
   },
   "outputs": [],
   "source": [
    "C = 4 # VALOR DE C"
   ]
  },
  {
   "cell_type": "code",
   "execution_count": 51,
   "id": "7a0c65f3",
   "metadata": {},
   "outputs": [
    {
     "name": "stdout",
     "output_type": "stream",
     "text": [
      "RESULTADO:  30.0\n"
     ]
    }
   ],
   "source": [
    "print (\"RESULTADO: \", A*B/C)"
   ]
  },
  {
   "cell_type": "code",
   "execution_count": 38,
   "id": "05f0e860",
   "metadata": {},
   "outputs": [],
   "source": [
    "# (94+2) X 6 -1 EXPRESSÃO 3 "
   ]
  },
  {
   "cell_type": "code",
   "execution_count": 42,
   "id": "61d41ff9",
   "metadata": {},
   "outputs": [
    {
     "name": "stdout",
     "output_type": "stream",
     "text": [
      "RESULTADO :  575\n"
     ]
    }
   ],
   "source": [
    "print (\"RESULTADO : \", (94+2) * 6 -1)"
   ]
  },
  {
   "cell_type": "code",
   "execution_count": 44,
   "id": "035f8481",
   "metadata": {},
   "outputs": [],
   "source": [
    "# ((10+8)*(10-4)) -1 # EXPRESSÃO 4 "
   ]
  },
  {
   "cell_type": "code",
   "execution_count": 47,
   "id": "490e1e0c",
   "metadata": {},
   "outputs": [
    {
     "name": "stdout",
     "output_type": "stream",
     "text": [
      "RESULTADO:  108\n"
     ]
    }
   ],
   "source": [
    "print (\"RESULTADO: \", ((10+8)*(10-4)))"
   ]
  },
  {
   "cell_type": "code",
   "execution_count": 49,
   "id": "fce8de35",
   "metadata": {},
   "outputs": [
    {
     "name": "stdout",
     "output_type": "stream",
     "text": [
      "RESULTADO:  2980947985820.5586\n"
     ]
    }
   ],
   "source": [
    "print(\"RESULTADO: \",((1500+(100-9/10))*9)**3)"
   ]
  }
 ],
 "metadata": {
  "kernelspec": {
   "display_name": "Python 3 (ipykernel)",
   "language": "python",
   "name": "python3"
  },
  "language_info": {
   "codemirror_mode": {
    "name": "ipython",
    "version": 3
   },
   "file_extension": ".py",
   "mimetype": "text/x-python",
   "name": "python",
   "nbconvert_exporter": "python",
   "pygments_lexer": "ipython3",
   "version": "3.9.7"
  }
 },
 "nbformat": 4,
 "nbformat_minor": 5
}
