{
 "cells": [
  {
   "cell_type": "code",
   "execution_count": 16,
   "id": "78f6fea9",
   "metadata": {},
   "outputs": [],
   "source": [
    "#código da figura 5.5, armazene valores e mostrar o resultado"
   ]
  },
  {
   "cell_type": "markdown",
   "id": "60df46f3",
   "metadata": {},
   "source": [
    "# Exercício 5.23"
   ]
  },
  {
   "cell_type": "code",
   "execution_count": 1,
   "id": "57133c97",
   "metadata": {},
   "outputs": [],
   "source": [
    "a = 1 #a recebe 1"
   ]
  },
  {
   "cell_type": "code",
   "execution_count": 2,
   "id": "b134887b",
   "metadata": {},
   "outputs": [],
   "source": [
    "b = 5 # b recebe  5"
   ]
  },
  {
   "cell_type": "code",
   "execution_count": 4,
   "id": "0854105f",
   "metadata": {},
   "outputs": [],
   "source": [
    "c = 2 # C recebe 2 "
   ]
  },
  {
   "cell_type": "code",
   "execution_count": 5,
   "id": "1f2b7a83",
   "metadata": {},
   "outputs": [],
   "source": [
    "d = 1 #d recebe 1 "
   ]
  },
  {
   "cell_type": "code",
   "execution_count": 6,
   "id": "db60b3f0",
   "metadata": {},
   "outputs": [
    {
     "name": "stdout",
     "output_type": "stream",
     "text": [
      "\n"
     ]
    }
   ],
   "source": [
    "print (\"a==b ?\", a==b) #a é igual a b ?"
   ]
  },
  {
   "cell_type": "code",
   "execution_count": 23,
   "id": "97b52f83",
   "metadata": {},
   "outputs": [
    {
     "name": "stdout",
     "output_type": "stream",
     "text": [
      " b > a ? True\n"
     ]
    }
   ],
   "source": [
    "print (\" b > a ?\", b > a) # b é maior que a?"
   ]
  },
  {
   "cell_type": "code",
   "execution_count": 21,
   "id": "007e6e16",
   "metadata": {},
   "outputs": [
    {
     "name": "stdout",
     "output_type": "stream",
     "text": [
      "a < b ? True\n"
     ]
    }
   ],
   "source": [
    "print (\"a < b ?\", a < b) # a é menor que b?"
   ]
  },
  {
   "cell_type": "code",
   "execution_count": 20,
   "id": "6085d89f",
   "metadata": {},
   "outputs": [
    {
     "name": "stdout",
     "output_type": "stream",
     "text": [
      " a == d ? True\n"
     ]
    }
   ],
   "source": [
    "print (\" a == d ?\", a==d) #a é igual a d ?"
   ]
  },
  {
   "cell_type": "code",
   "execution_count": 19,
   "id": "b2372c0a",
   "metadata": {},
   "outputs": [
    {
     "name": "stdout",
     "output_type": "stream",
     "text": [
      " b >= a ? True\n"
     ]
    }
   ],
   "source": [
    "print (\" b >= a ?\", b >=a) # b é maior ou igual a a?"
   ]
  },
  {
   "cell_type": "code",
   "execution_count": 18,
   "id": "e0651258",
   "metadata": {},
   "outputs": [
    {
     "name": "stdout",
     "output_type": "stream",
     "text": [
      "c <= b ? True\n"
     ]
    }
   ],
   "source": [
    "print (\"c <= b ?\", c <=b) # c é menor ou igual a b? "
   ]
  },
  {
   "cell_type": "code",
   "execution_count": 14,
   "id": "4212f1cb",
   "metadata": {},
   "outputs": [
    {
     "name": "stdout",
     "output_type": "stream",
     "text": [
      "d != a ? False\n"
     ]
    }
   ],
   "source": [
    "print (\"d != a ?\", d != a) # d é diferente de a?"
   ]
  },
  {
   "cell_type": "code",
   "execution_count": 17,
   "id": "b8e7a02a",
   "metadata": {},
   "outputs": [
    {
     "name": "stdout",
     "output_type": "stream",
     "text": [
      "d != b True\n"
     ]
    }
   ],
   "source": [
    "print (\"d != b\", d != b) # d é diferente de b?"
   ]
  }
 ],
 "metadata": {
  "kernelspec": {
   "display_name": "Python 3 (ipykernel)",
   "language": "python",
   "name": "python3"
  },
  "language_info": {
   "codemirror_mode": {
    "name": "ipython",
    "version": 3
   },
   "file_extension": ".py",
   "mimetype": "text/x-python",
   "name": "python",
   "nbconvert_exporter": "python",
   "pygments_lexer": "ipython3",
   "version": "3.9.7"
  }
 },
 "nbformat": 4,
 "nbformat_minor": 5
}
